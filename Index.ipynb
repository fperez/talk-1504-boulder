{
 "cells": [
  {
   "cell_type": "markdown",
   "metadata": {
    "slideshow": {
     "slide_type": "slide"
    }
   },
   "source": [
    "# IPython/Jupyter Demos\n",
    "\n",
    "* [A quick tour of the IPython Notebook](QuickTour.ipynb)\n",
    "* [IPython: a polyglot kernel](Multiple%20languages%20from%20inside%20IPython.ipynb)\n",
    "* [A Julia Notebook, with interactive widgets](Julia-Interactive%20Widgets.ipynb)\n",
    "* [An R Notebook](ggplot2-examples.ipynb)"
   ]
  }
 ],
 "metadata": {
  "kernelspec": {
   "display_name": "Python 3",
   "language": "python",
   "name": "python3"
  },
  "language_info": {
   "codemirror_mode": {
    "name": "ipython",
    "version": 3
   },
   "file_extension": ".py",
   "mimetype": "text/x-python",
   "name": "python",
   "nbconvert_exporter": "python",
   "pygments_lexer": "ipython3",
   "version": "3.4.3"
  }
 },
 "nbformat": 4,
 "nbformat_minor": 0
}
